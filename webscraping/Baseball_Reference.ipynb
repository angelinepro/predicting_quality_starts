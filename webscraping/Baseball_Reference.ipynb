{
 "cells": [
  {
   "cell_type": "markdown",
   "metadata": {},
   "source": [
    "# Scraping Baseball Reference Data"
   ]
  },
  {
   "cell_type": "markdown",
   "metadata": {},
   "source": [
    "### Introduction"
   ]
  },
  {
   "cell_type": "markdown",
   "metadata": {},
   "source": [
    "This notebook describes how to scrape prior season data from Baseball Reference, to be used later to predict pitcher quality starts. I'll be scraping four years of data (2016-2019) for each team. Each year is on its own page, with pitching data for all teams available on the same page. The data I want is all in the \"Player Starting Pitching\" table, which looks like this:\n",
    "\n",
    "![](img/starting_pitch_table.png)"
   ]
  },
  {
   "cell_type": "markdown",
   "metadata": {},
   "source": [
    "### Retrieving Page Source Code"
   ]
  },
  {
   "cell_type": "markdown",
   "metadata": {},
   "source": [
    "I’m going to use Selenium because Baseball Reference doesn't fully render the page once it's loaded, and I need to automate scrolling and clicking on the table I want, to get the data to show up. I’ll use BeautifulSoup to parse the HTML that comes back to make it easier to find and extract the data I care about. I’m also going to load pandas to put it all into dataframes after getting the data I need. "
   ]
  },
  {
   "cell_type": "code",
   "execution_count": 2,
   "metadata": {},
   "outputs": [],
   "source": [
    "from bs4 import BeautifulSoup\n",
    "import requests\n",
    "import pandas as pd\n",
    "from selenium import webdriver\n",
    "from selenium.webdriver.common.keys import Keys\n",
    "import time, os\n",
    "\n",
    "chromedriver = \"/Applications/chromedriver\"\n",
    "os.environ[\"webdriver.chrome.driver\"] = chromedriver"
   ]
  },
  {
   "cell_type": "markdown",
   "metadata": {},
   "source": [
    "I wrote this function to get the source code for each season of data. I built in 5 seconds of sleep time at various stages to allow the page to render properly. I also used Selenium to click on a button that displays the table as csv, that can be extracted and then processed more easily."
   ]
  },
  {
   "cell_type": "code",
   "execution_count": 8,
   "metadata": {},
   "outputs": [],
   "source": [
    "def get_csv_bbref(link_list):\n",
    "    soup_list = []\n",
    "    for i in link_list:\n",
    "        driver = webdriver.Chrome(chromedriver)\n",
    "        driver.get(i)\n",
    "        time.sleep(5)\n",
    "        driver.execute_script(\"window.scrollTo(0, 1500);\")\n",
    "        driver.find_element_by_xpath('//*[@id=\"all_players_starter_pitching\"]/div[1]/div/ul/li[1]').click()\n",
    "        time.sleep(5)\n",
    "        driver.find_element_by_xpath('//*[@id=\"all_players_starter_pitching\"]/div[1]/div/ul/li[1]/div/ul/li[4]/button').click()\n",
    "        soup = BeautifulSoup(driver.page_source, 'html.parser')\n",
    "        crude = soup.find('pre', id = 'csv_players_starter_pitching').text.split(\"\\n\")\n",
    "        soup_list.append(crude)\n",
    "    return soup_list\n",
    "        "
   ]
  },
  {
   "cell_type": "code",
   "execution_count": 10,
   "metadata": {},
   "outputs": [],
   "source": [
    "#get all pages at once\n",
    "bbref_list = ['https://www.baseball-reference.com/leagues/MLB/2016-starter-pitching.shtml', \n",
    "              'https://www.baseball-reference.com/leagues/MLB/2017-starter-pitching.shtml',\n",
    "              'https://www.baseball-reference.com/leagues/MLB/2018-starter-pitching.shtml',\n",
    "              'https://www.baseball-reference.com/leagues/MLB/2019-starter-pitching.shtml']"
   ]
  },
  {
   "cell_type": "code",
   "execution_count": 6,
   "metadata": {},
   "outputs": [],
   "source": [
    "#get individual pages one at a time\n",
    "bbref_2016 = ['https://www.baseball-reference.com/leagues/MLB/2016-starter-pitching.shtml']\n",
    "bbref_2017 = ['https://www.baseball-reference.com/leagues/MLB/2017-starter-pitching.shtml']\n",
    "bbref_2018 = ['https://www.baseball-reference.com/leagues/MLB/2018-starter-pitching.shtml']\n",
    "bbref_2019 = ['https://www.baseball-reference.com/leagues/MLB/2019-starter-pitching.shtml']"
   ]
  },
  {
   "cell_type": "code",
   "execution_count": 11,
   "metadata": {},
   "outputs": [],
   "source": [
    "raw_csv_data_list = get_csv_bbref(bbref_list)"
   ]
  },
  {
   "cell_type": "code",
   "execution_count": 9,
   "metadata": {},
   "outputs": [],
   "source": [
    "raw_csv_data_2016 = get_csv_bbref(bbref_2016)\n",
    "raw_csv_data_2017 = get_csv_bbref(bbref_2017)\n",
    "raw_csv_data_2018 = get_csv_bbref(bbref_2018)\n",
    "raw_csv_data_2019 = get_csv_bbref(bbref_2019)"
   ]
  },
  {
   "cell_type": "markdown",
   "metadata": {},
   "source": [
    "### Extract Data from CSV table"
   ]
  },
  {
   "cell_type": "markdown",
   "metadata": {},
   "source": [
    "Now that I have the csvs, I can process them, cleaning them up and saving them."
   ]
  },
  {
   "cell_type": "code",
   "execution_count": 81,
   "metadata": {},
   "outputs": [],
   "source": [
    "def clean_crude(csv):\n",
    "    no_blank = [] \n",
    "    for i in csv:\n",
    "        for j in i:\n",
    "            if j != '':\n",
    "                no_blank.append(j)\n",
    "        new_data_split = []\n",
    "    for i in no_blank:\n",
    "        new_line = pd.DataFrame(i.split(','))\n",
    "        new_data_split.append(new_line)\n",
    "    season_data = pd.concat(new_data_split, ignore_index = True, axis = 1).T\n",
    "    header = season_data.iloc[0]\n",
    "    season_data = season_data[1:]\n",
    "    season_data.columns = header\n",
    "    season_data.drop(columns = ['Rk'], inplace = True)\n",
    "    return season_data"
   ]
  },
  {
   "cell_type": "code",
   "execution_count": 83,
   "metadata": {},
   "outputs": [],
   "source": [
    "clean_2016 = clean_crude(raw_csv_data_2016)\n",
    "#clean_2016.to_csv('season_2016.csv', index = False)"
   ]
  },
  {
   "cell_type": "code",
   "execution_count": 84,
   "metadata": {},
   "outputs": [],
   "source": [
    "clean_2017 = clean_crude(raw_csv_data_2017)\n",
    "#clean_2017.to_csv('season_2017.csv', index = False)"
   ]
  },
  {
   "cell_type": "code",
   "execution_count": 85,
   "metadata": {},
   "outputs": [],
   "source": [
    "clean_2018 = clean_crude(raw_csv_data_2018)\n",
    "#clean_2018.to_csv('season_2018.csv', index = False)"
   ]
  },
  {
   "cell_type": "code",
   "execution_count": 86,
   "metadata": {},
   "outputs": [],
   "source": [
    "clean_2019 = clean_crude(raw_csv_data_2019)\n",
    "#clean_2019.to_csv('season_2019.csv', index = False)"
   ]
  },
  {
   "cell_type": "code",
   "execution_count": 88,
   "metadata": {},
   "outputs": [],
   "source": [
    "clean_allyears = clean_crude(raw_csv_data_list)\n",
    "#clean_allyears.to_csv('season_1619.csv', index = False)"
   ]
  },
  {
   "cell_type": "markdown",
   "metadata": {},
   "source": [
    "### Wrap-up"
   ]
  },
  {
   "cell_type": "markdown",
   "metadata": {},
   "source": [
    "Now we have four years of season data for pitching. Between this and the three years of projection data for Fangraphs, I am ready to start exploratory data analysis to predict quality starts. "
   ]
  },
  {
   "cell_type": "code",
   "execution_count": null,
   "metadata": {},
   "outputs": [],
   "source": []
  }
 ],
 "metadata": {
  "kernelspec": {
   "display_name": "Python 3",
   "language": "python",
   "name": "python3"
  },
  "language_info": {
   "codemirror_mode": {
    "name": "ipython",
    "version": 3
   },
   "file_extension": ".py",
   "mimetype": "text/x-python",
   "name": "python",
   "nbconvert_exporter": "python",
   "pygments_lexer": "ipython3",
   "version": "3.7.4"
  },
  "toc": {
   "base_numbering": 1,
   "nav_menu": {},
   "number_sections": false,
   "sideBar": true,
   "skip_h1_title": true,
   "title_cell": "Table of Contents",
   "title_sidebar": "Contents",
   "toc_cell": false,
   "toc_position": {},
   "toc_section_display": true,
   "toc_window_display": true
  }
 },
 "nbformat": 4,
 "nbformat_minor": 4
}
