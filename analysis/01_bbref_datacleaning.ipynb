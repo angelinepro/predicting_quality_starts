{
 "cells": [
  {
   "cell_type": "markdown",
   "metadata": {},
   "source": [
    "# Notebook 1: Cleaning Baseball Reference Data"
   ]
  },
  {
   "cell_type": "markdown",
   "metadata": {},
   "source": [
    "### Introduction"
   ]
  },
  {
   "cell_type": "markdown",
   "metadata": {},
   "source": [
    "This notebook is intended as a reference for cleaning data scraped from Baseball Reference. There are no special libraries required, as most of the cleaning can be done with pandas."
   ]
  },
  {
   "cell_type": "code",
   "execution_count": 1,
   "metadata": {
    "ExecuteTime": {
     "end_time": "2020-07-01T19:35:00.912806Z",
     "start_time": "2020-07-01T19:35:00.554421Z"
    }
   },
   "outputs": [],
   "source": [
    "import pandas as pd"
   ]
  },
  {
   "cell_type": "markdown",
   "metadata": {},
   "source": [
    "### Cleaning Function"
   ]
  },
  {
   "cell_type": "markdown",
   "metadata": {},
   "source": [
    "All of the major data cleaning can be done in one cleaning function. There are several characters that need to be stripped, including some hidden ones that look like spaces, but aren't. There are also instances where pitchers play on more than one team during the season, and there is a row with stats for each team, as well as row with totals across all teams they played for. I wanted to keep just the totals, since the team-specific data isn't as important to me.  This function takes care of all that."
   ]
  },
  {
   "cell_type": "code",
   "execution_count": 2,
   "metadata": {
    "ExecuteTime": {
     "end_time": "2020-07-01T19:35:00.942732Z",
     "start_time": "2020-07-01T19:35:00.914666Z"
    }
   },
   "outputs": [],
   "source": [
    "def clean_bbref_season(csvpath, suffix):\n",
    "    file = pd.read_csv(csvpath)\n",
    "    file['Full_Name'] = file['Name'].str.split(\"\\\\\", expand = False).str[0].str.strip('*')\n",
    "    file['Full_Name'] = file.Full_Name.str.replace(u'\\xa0', ' ')\n",
    "    file['ID'] = file['Name'].str.split(\"\\\\\", expand = False).str[1]\n",
    "    cols = file.columns.tolist()\n",
    "    new_cols = [cols[-2], cols [-1]] + [i for i in cols[1:-2]]\n",
    "    single_row_file = file.groupby('ID').filter(lambda x: len(x) == 1)\n",
    "    multi_row_file = file[file.Tm == 'TOT']\n",
    "    no_duplicates = pd.concat([single_row_file, multi_row_file]).sort_index()[new_cols]\n",
    "    new_names = [(i,i+ suffix) for i in no_duplicates.iloc[:, 2:].columns.values]\n",
    "    no_duplicates.rename(columns = dict(new_names), inplace=True)\n",
    "    return no_duplicates\n",
    "    "
   ]
  },
  {
   "cell_type": "markdown",
   "metadata": {},
   "source": [
    "### Saving to CSV"
   ]
  },
  {
   "cell_type": "markdown",
   "metadata": {},
   "source": [
    "Finally, I'll call the function on my scraped data, and save the resulting pandas dataframe as a csv."
   ]
  },
  {
   "cell_type": "code",
   "execution_count": 3,
   "metadata": {
    "ExecuteTime": {
     "end_time": "2020-07-01T19:35:01.264017Z",
     "start_time": "2020-07-01T19:35:00.944452Z"
    }
   },
   "outputs": [],
   "source": [
    "season_2016_c = clean_bbref_season('../data/season_2016.csv', '_2016')\n",
    "season_2017_c = clean_bbref_season('../data/season_2017.csv', '_2017')\n",
    "season_2018_c = clean_bbref_season('../data/season_2018.csv', '_2018')\n",
    "season_2019_c = clean_bbref_season('../data/season_2019.csv', '_2019')"
   ]
  },
  {
   "cell_type": "code",
   "execution_count": 4,
   "metadata": {
    "ExecuteTime": {
     "end_time": "2020-07-01T19:35:01.267305Z",
     "start_time": "2020-07-01T19:35:01.265428Z"
    }
   },
   "outputs": [],
   "source": [
    "# season_2016_c.to_csv('../data/season_2016_c.csv', index = False)\n",
    "# season_2017_c.to_csv('../data/season_2017_c.csv', index = False)\n",
    "# season_2018_c.to_csv('../data/season_2018_c.csv', index = False)\n",
    "# season_2019_c.to_csv('../data/season_2019_c.csv', index = False)"
   ]
  }
 ],
 "metadata": {
  "kernelspec": {
   "display_name": "Python 3",
   "language": "python",
   "name": "python3"
  },
  "language_info": {
   "codemirror_mode": {
    "name": "ipython",
    "version": 3
   },
   "file_extension": ".py",
   "mimetype": "text/x-python",
   "name": "python",
   "nbconvert_exporter": "python",
   "pygments_lexer": "ipython3",
   "version": "3.7.4"
  },
  "toc": {
   "base_numbering": 1,
   "nav_menu": {},
   "number_sections": false,
   "sideBar": true,
   "skip_h1_title": true,
   "title_cell": "Table of Contents",
   "title_sidebar": "Contents",
   "toc_cell": false,
   "toc_position": {},
   "toc_section_display": true,
   "toc_window_display": true
  }
 },
 "nbformat": 4,
 "nbformat_minor": 4
}
