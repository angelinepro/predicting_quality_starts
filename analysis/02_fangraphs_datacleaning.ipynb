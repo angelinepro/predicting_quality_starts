{
 "cells": [
  {
   "cell_type": "markdown",
   "metadata": {},
   "source": [
    "# Notebook 2: Cleaning Fangraphs Data"
   ]
  },
  {
   "cell_type": "markdown",
   "metadata": {},
   "source": [
    "### Introduction"
   ]
  },
  {
   "cell_type": "markdown",
   "metadata": {},
   "source": [
    "This notebook is intended as a reference for cleaning data scraped from Fangraphs. There are no special libraries required, as most of the cleaning can be done with pandas."
   ]
  },
  {
   "cell_type": "code",
   "execution_count": 1,
   "metadata": {
    "ExecuteTime": {
     "end_time": "2020-07-01T19:34:43.288424Z",
     "start_time": "2020-07-01T19:34:42.940233Z"
    }
   },
   "outputs": [],
   "source": [
    "import pandas as pd"
   ]
  },
  {
   "cell_type": "markdown",
   "metadata": {},
   "source": [
    "### Cleaning Function"
   ]
  },
  {
   "cell_type": "markdown",
   "metadata": {},
   "source": [
    "All of the major data cleaning can be done in one cleaning function. There are some jokers at Fangraphs who entered in projections for \"Rob W00t3n\", so I hard-coded a fix, but aside from that, it's mostly replacing characters and generating an 'ID' variable based on the player name so it's possible to combine this with the Baseball Reference data."
   ]
  },
  {
   "cell_type": "code",
   "execution_count": 2,
   "metadata": {
    "ExecuteTime": {
     "end_time": "2020-07-01T19:34:43.319976Z",
     "start_time": "2020-07-01T19:34:43.289896Z"
    }
   },
   "outputs": [],
   "source": [
    "def clean_fangraphs_season(csvpath, suffix):\n",
    "    file = pd.read_csv(csvpath)\n",
    "    if csvpath == 'projected_2017.csv':\n",
    "        file.iloc[665, 0] = 'Rob Wooten'\n",
    "        file.iloc[826, 0] = 'Rob Wooten'\n",
    "    file['ID'] = file.Player.str.replace(\"’\", '').str.replace('.', '').str.replace('-', '')\n",
    "    file['ID'] = file.ID.str.extract(r'\\s(\\b[a-zA-Z]{1,5})[A-z]*$') + file.ID.str.extract(r'(^[A-z]{2})')\n",
    "    file['ID'] = file.ID.str.lower()\n",
    "    file['ID'] = file.ID.astype(str) + '01'\n",
    "    cols = file.columns.tolist()\n",
    "    new_cols = [cols[-1]] + [i for i in cols[0:-1]]\n",
    "    file_v2 = file[new_cols]\n",
    "    new_names = [(i,i+ suffix) for i in file_v2.iloc[:, 2:].columns.values]\n",
    "    file_v2.rename(columns = dict(new_names), inplace=True)\n",
    "    return file_v2\n",
    "    "
   ]
  },
  {
   "cell_type": "markdown",
   "metadata": {},
   "source": [
    "### Saving to CSV"
   ]
  },
  {
   "cell_type": "markdown",
   "metadata": {},
   "source": [
    "I'll call the function on my scraped data, and save the resulting pandas dataframe as a csv."
   ]
  },
  {
   "cell_type": "code",
   "execution_count": 3,
   "metadata": {
    "ExecuteTime": {
     "end_time": "2020-07-01T19:34:43.380487Z",
     "start_time": "2020-07-01T19:34:43.321456Z"
    }
   },
   "outputs": [],
   "source": [
    "projected_2017_c = clean_fangraphs_season('../data/projected_2017.csv', '_2017')\n",
    "projected_2018_c = clean_fangraphs_season('../data/projected_2018.csv', '_2018')\n",
    "projected_2019_c = clean_fangraphs_season('../data/projected_2019.csv', '_2019')\n"
   ]
  },
  {
   "cell_type": "code",
   "execution_count": 4,
   "metadata": {
    "ExecuteTime": {
     "end_time": "2020-07-01T19:34:43.383656Z",
     "start_time": "2020-07-01T19:34:43.381835Z"
    }
   },
   "outputs": [],
   "source": [
    "# projected_2017_c.to_csv('../data/projected_2017_c.csv', index = False)\n",
    "# projected_2018_c.to_csv('../data/projected_2018_c.csv', index = False)\n",
    "# projected_2019_c.to_csv('../data/projected_2019_c.csv', index = False)"
   ]
  }
 ],
 "metadata": {
  "kernelspec": {
   "display_name": "Python [conda env:metis] *",
   "language": "python",
   "name": "conda-env-metis-py"
  },
  "language_info": {
   "codemirror_mode": {
    "name": "ipython",
    "version": 3
   },
   "file_extension": ".py",
   "mimetype": "text/x-python",
   "name": "python",
   "nbconvert_exporter": "python",
   "pygments_lexer": "ipython3",
   "version": "3.7.4"
  },
  "toc": {
   "base_numbering": 1,
   "nav_menu": {},
   "number_sections": false,
   "sideBar": true,
   "skip_h1_title": true,
   "title_cell": "Table of Contents",
   "title_sidebar": "Contents",
   "toc_cell": false,
   "toc_position": {},
   "toc_section_display": true,
   "toc_window_display": true
  }
 },
 "nbformat": 4,
 "nbformat_minor": 4
}
